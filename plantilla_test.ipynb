{
  "nbformat": 4,
  "nbformat_minor": 0,
  "metadata": {
    "colab": {
      "name": "plantilla test.ipynb",
      "private_outputs": true,
      "provenance": [],
      "authorship_tag": "ABX9TyOoI9FQGdRNwRBGSZ1avRG1",
      "include_colab_link": true
    },
    "kernelspec": {
      "name": "python3",
      "display_name": "Python 3"
    }
  },
  "cells": [
    {
      "cell_type": "markdown",
      "metadata": {
        "id": "view-in-github",
        "colab_type": "text"
      },
      "source": [
        "<a href=\"https://colab.research.google.com/github/SirWerto/prueba_test_darwined/blob/master/plantilla_test.ipynb\" target=\"_parent\"><img src=\"https://colab.research.google.com/assets/colab-badge.svg\" alt=\"Open In Colab\"/></a>"
      ]
    },
    {
      "cell_type": "code",
      "metadata": {
        "cellView": "form",
        "id": "hjZ2bBNQpa4W"
      },
      "source": [
        "#@title Si has importado una carpeta, escribe su nombre\n",
        "Carpeta = '' #@param {type:\"string\"}"
      ],
      "execution_count": null,
      "outputs": []
    },
    {
      "cell_type": "code",
      "metadata": {
        "id": "PLctjeRwL5jQ",
        "cellView": "form"
      },
      "source": [
        "#@title Modificar los nombres de los catalogos por defecto\n",
        "\n",
        "\n",
        "#@markdown ---\n",
        "#@markdown #### Infraestructura\n",
        "Escuelas = 'Escuelas.xlsx' #@param {type:\"string\"}\n",
        "Sedes = 'Sedes.xlsx' #@param {type:\"string\"}\n",
        "Edificios = 'Edificios.xlsx' #@param {type:\"string\"}\n",
        "TiposDeSalas = 'Tipos de Sala.xlsx' #@param {type:\"string\"}\n",
        "Salas = 'Salas.xlsx' #@param {type:\"string\"}\n",
        "#@markdown ---\n",
        "#@markdown #### Temporal\n",
        "TiposDePeriodo = 'Tipos de periodo.xlsx' #@param {type:\"string\"}\n",
        "Periodo = 'Periodo.xlsx' #@param {type:\"string\"}\n",
        "Bloques = 'Bloques.xlsx' #@param {type:\"string\"}\n",
        "Franjas = 'Franjas.xls' #@param {type:\"string\"}\n",
        "#@markdown ---\n",
        "#@markdown #### Oferta Académica\n",
        "Modalidades = 'Modalidades.xlsx' #@param {type:\"string\"}\n",
        "Jornadas = 'Jornadas.xlsx' #@param {type:\"string\"}\n",
        "Carreras = 'Carreras.xlsx' #@param {type:\"string\"}\n",
        "Curriculos = 'Currículos.xlsx' #@param {type:\"string\"}\n",
        "Mallas = 'Mallas.xlsx' #@param {type:\"string\"}\n",
        "Componentes = 'Componentes.xlsx' #@param {type:\"string\"}\n",
        "Asignaturas = 'AsignaturasP.xlsx' #@param {type:\"string\"}\n",
        "#@markdown ---\n",
        "#@markdown #### Docentes\n",
        "Docentes = 'Docentes.xlsx' #@param {type:\"string\"}\n",
        "Contratos = 'Contratos.xlsx' #@param {type:\"string\"}\n",
        "\n",
        "catalogos = {\n",
        "    \"escuelas\" : Escuelas,\n",
        "    \"sedes\" : Sedes,\n",
        "    \"edificios\" : Edificios,\n",
        "    \"tsalas\" : TiposDeSalas,\n",
        "    \"salas\" : Salas,\n",
        "    \"tperiodos\" : TiposDePeriodo,\n",
        "    \"periodo\" : Periodo,\n",
        "    \"bloques\" : Bloques,\n",
        "    \"franjas\" : Franjas,\n",
        "    \"modalidades\" : Modalidades,\n",
        "    \"jornadas\" : Jornadas,\n",
        "    \"carreras\" : Carreras,\n",
        "    \"curr\" : Curriculos,\n",
        "    \"mallas\" : Mallas,\n",
        "    \"componentes\" : Componentes,\n",
        "    \"asignatura\" : Asignaturas,\n",
        "    \"docentes\" : Docentes,\n",
        "    \"contratos\" : Contratos,\n",
        "}\n",
        "\n",
        "if Carpeta != \"\":\n",
        "  catalogos = {key:Carpeta+\"/\"+value for key,value in catalogos.items()}"
      ],
      "execution_count": null,
      "outputs": []
    },
    {
      "cell_type": "code",
      "metadata": {
        "id": "m7mN0eu1PCaJ"
      },
      "source": [
        "! rm -rf prueba_test_darwined/\n",
        "! rm -rf Reporte\n",
        "! git clone -q https://github.com/SirWerto/prueba_test_darwined.git\n",
        "! pip install pandas openpyxl xlrd\n",
        "! mkdir Reporte"
      ],
      "execution_count": null,
      "outputs": []
    },
    {
      "cell_type": "code",
      "metadata": {
        "id": "UP_CWAzmo6tA"
      },
      "source": [
        "import pandas as pd\n",
        "import sys\n",
        "sys.path.append(\"prueba_test_darwined\")\n",
        "from prueba_test_darwined.main import main\n",
        "\n",
        "main(catalogos, path=\"Reporte/\", to_csv=True)"
      ],
      "execution_count": null,
      "outputs": []
    }
  ]
}